{
 "cells": [
  {
   "cell_type": "code",
   "execution_count": 1,
   "metadata": {},
   "outputs": [],
   "source": [
    "import pandas as pd\n",
    "\n",
    "# Load the CSV file\n",
    "dfQuinone = pd.read_csv('Quinone.csv')\n",
    "\n",
    "# Filter the data based on voltage\n",
    "high_voltage_Quinone = dfQuinone[dfQuinone['VoltageQuinone'] > 2.5]\n",
    "low_voltage_Quinone = dfQuinone[dfQuinone['VoltageQuinone'] <= 2.5]\n"
   ]
  },
  {
   "cell_type": "code",
   "execution_count": 2,
   "metadata": {},
   "outputs": [
    {
     "data": {
      "text/plain": [
       "(438, 2)"
      ]
     },
     "execution_count": 2,
     "metadata": {},
     "output_type": "execute_result"
    }
   ],
   "source": [
    "high_voltage_Quinone.shape"
   ]
  },
  {
   "cell_type": "code",
   "execution_count": 3,
   "metadata": {},
   "outputs": [
    {
     "data": {
      "text/plain": [
       "(203, 2)"
      ]
     },
     "execution_count": 3,
     "metadata": {},
     "output_type": "execute_result"
    }
   ],
   "source": [
    "low_voltage_Quinone.shape"
   ]
  },
  {
   "cell_type": "code",
   "execution_count": 4,
   "metadata": {},
   "outputs": [],
   "source": [
    "\n",
    "# Randomly select 200 molecules from each group\n",
    "sample_high_voltage_Quinone = high_voltage_Quinone.sample(n=400, random_state=42)\n",
    "sample_low_voltage_Quinone = low_voltage_Quinone.sample(n=200, random_state=42)\n",
    "\n",
    "# Combine the samples and shuffle the combined dataset\n",
    "final_sample_Quinone = pd.concat([sample_high_voltage_Quinone, sample_low_voltage_Quinone]).sample(frac=1, random_state=42)\n",
    "\n",
    "# Save the final dataset to a new CSV file if needed\n",
    "final_sample_Quinone.to_csv('Selected_Quinone.csv', index=False)"
   ]
  },
  {
   "cell_type": "code",
   "execution_count": 5,
   "metadata": {},
   "outputs": [
    {
     "data": {
      "text/html": [
       "<div>\n",
       "<style scoped>\n",
       "    .dataframe tbody tr th:only-of-type {\n",
       "        vertical-align: middle;\n",
       "    }\n",
       "\n",
       "    .dataframe tbody tr th {\n",
       "        vertical-align: top;\n",
       "    }\n",
       "\n",
       "    .dataframe thead th {\n",
       "        text-align: right;\n",
       "    }\n",
       "</style>\n",
       "<table border=\"1\" class=\"dataframe\">\n",
       "  <thead>\n",
       "    <tr style=\"text-align: right;\">\n",
       "      <th></th>\n",
       "      <th>SMILESquinone</th>\n",
       "      <th>VoltageQuinone</th>\n",
       "    </tr>\n",
       "  </thead>\n",
       "  <tbody>\n",
       "    <tr>\n",
       "      <th>612</th>\n",
       "      <td>Clc1c(=O)c(=O)c(Cl)c(c12)c(Cl)cc(=O)c2=O</td>\n",
       "      <td>3.663789</td>\n",
       "    </tr>\n",
       "    <tr>\n",
       "      <th>145</th>\n",
       "      <td>Cc1ccc(C)c(c12)C(=O)C=CC2=O</td>\n",
       "      <td>2.390244</td>\n",
       "    </tr>\n",
       "    <tr>\n",
       "      <th>186</th>\n",
       "      <td>c1cccc(c12)C=C(N)C(=O)C2=O</td>\n",
       "      <td>2.477216</td>\n",
       "    </tr>\n",
       "    <tr>\n",
       "      <th>225</th>\n",
       "      <td>c1cccc(cc2)c1c(c2c34)ccc4C=CC(=O)C3=O</td>\n",
       "      <td>2.553843</td>\n",
       "    </tr>\n",
       "    <tr>\n",
       "      <th>353</th>\n",
       "      <td>C1C(=O)C(=O)C=c(c=12)c(N)ccc2N</td>\n",
       "      <td>2.898283</td>\n",
       "    </tr>\n",
       "  </tbody>\n",
       "</table>\n",
       "</div>"
      ],
      "text/plain": [
       "                                SMILESquinone  VoltageQuinone\n",
       "612  Clc1c(=O)c(=O)c(Cl)c(c12)c(Cl)cc(=O)c2=O        3.663789\n",
       "145               Cc1ccc(C)c(c12)C(=O)C=CC2=O        2.390244\n",
       "186                c1cccc(c12)C=C(N)C(=O)C2=O        2.477216\n",
       "225     c1cccc(cc2)c1c(c2c34)ccc4C=CC(=O)C3=O        2.553843\n",
       "353            C1C(=O)C(=O)C=c(c=12)c(N)ccc2N        2.898283"
      ]
     },
     "execution_count": 5,
     "metadata": {},
     "output_type": "execute_result"
    }
   ],
   "source": [
    "final_sample_Quinone.head()"
   ]
  },
  {
   "cell_type": "code",
   "execution_count": 6,
   "metadata": {},
   "outputs": [],
   "source": [
    "# Load the CSV file\n",
    "dfCSA = pd.read_csv('CSA.csv')\n",
    "\n",
    "# Filter the data based on voltage\n",
    "high_voltage_CSA = dfCSA[dfCSA['VoltageCSA'] > 2.5]\n",
    "low_voltage_CSA = dfCSA[dfCSA['VoltageCSA'] <= 2.5]"
   ]
  },
  {
   "cell_type": "code",
   "execution_count": 7,
   "metadata": {},
   "outputs": [
    {
     "data": {
      "text/plain": [
       "(8746, 2)"
      ]
     },
     "execution_count": 7,
     "metadata": {},
     "output_type": "execute_result"
    }
   ],
   "source": [
    "high_voltage_CSA.shape"
   ]
  },
  {
   "cell_type": "code",
   "execution_count": 8,
   "metadata": {},
   "outputs": [
    {
     "data": {
      "text/plain": [
       "(2686, 2)"
      ]
     },
     "execution_count": 8,
     "metadata": {},
     "output_type": "execute_result"
    }
   ],
   "source": [
    "low_voltage_CSA.shape"
   ]
  },
  {
   "cell_type": "code",
   "execution_count": 9,
   "metadata": {},
   "outputs": [],
   "source": [
    "# Randomly select 200 molecules from each group\n",
    "sample_high_voltage_CSA = high_voltage_CSA.sample(n=400, random_state=42)\n",
    "sample_low_voltage_CSA = low_voltage_CSA.sample(n=400, random_state=42)\n",
    "\n",
    "# Combine the samples and shuffle the combined dataset\n",
    "final_sample_CSA = pd.concat([sample_high_voltage_CSA, sample_low_voltage_CSA]).sample(frac=1, random_state=42)\n",
    "\n",
    "# Save the final dataset to a new CSV file if needed\n",
    "final_sample_CSA.to_csv('Selected_CSA.csv', index=False)"
   ]
  },
  {
   "cell_type": "code",
   "execution_count": 10,
   "metadata": {},
   "outputs": [
    {
     "data": {
      "text/html": [
       "<div>\n",
       "<style scoped>\n",
       "    .dataframe tbody tr th:only-of-type {\n",
       "        vertical-align: middle;\n",
       "    }\n",
       "\n",
       "    .dataframe tbody tr th {\n",
       "        vertical-align: top;\n",
       "    }\n",
       "\n",
       "    .dataframe thead th {\n",
       "        text-align: right;\n",
       "    }\n",
       "</style>\n",
       "<table border=\"1\" class=\"dataframe\">\n",
       "  <thead>\n",
       "    <tr style=\"text-align: right;\">\n",
       "      <th></th>\n",
       "      <th>SMILEScsa</th>\n",
       "      <th>VoltageCSA</th>\n",
       "    </tr>\n",
       "  </thead>\n",
       "  <tbody>\n",
       "    <tr>\n",
       "      <th>4108</th>\n",
       "      <td>Cc1c(C)ccc(c12)/C(=N\\S(=O)(=O)C)c3c(C\\2=N\\S(=O...</td>\n",
       "      <td>2.228517</td>\n",
       "    </tr>\n",
       "    <tr>\n",
       "      <th>652</th>\n",
       "      <td>COc1ccc(OC)c(c12)C=C(OC)C(=N/S(=O)(=O)C)\\C\\2=N...</td>\n",
       "      <td>2.428499</td>\n",
       "    </tr>\n",
       "    <tr>\n",
       "      <th>10968</th>\n",
       "      <td>N#Cc(c1)c(C#N)c(C#N)c(c1c23)/C(=N\\S(=O)(=O)C)C...</td>\n",
       "      <td>3.194718</td>\n",
       "    </tr>\n",
       "    <tr>\n",
       "      <th>7187</th>\n",
       "      <td>CS(=O)(=O)\\N=C\\1C=C(N)C(=N/S(=O)(=O)C)\\c2cc(N)...</td>\n",
       "      <td>2.275049</td>\n",
       "    </tr>\n",
       "    <tr>\n",
       "      <th>1402</th>\n",
       "      <td>CS(=O)(=O)\\N=C\\1/C(=N/S(=O)(=O)C)C=Cc(c2)c1cc(...</td>\n",
       "      <td>2.774487</td>\n",
       "    </tr>\n",
       "  </tbody>\n",
       "</table>\n",
       "</div>"
      ],
      "text/plain": [
       "                                               SMILEScsa  VoltageCSA\n",
       "4108   Cc1c(C)ccc(c12)/C(=N\\S(=O)(=O)C)c3c(C\\2=N\\S(=O...    2.228517\n",
       "652    COc1ccc(OC)c(c12)C=C(OC)C(=N/S(=O)(=O)C)\\C\\2=N...    2.428499\n",
       "10968  N#Cc(c1)c(C#N)c(C#N)c(c1c23)/C(=N\\S(=O)(=O)C)C...    3.194718\n",
       "7187   CS(=O)(=O)\\N=C\\1C=C(N)C(=N/S(=O)(=O)C)\\c2cc(N)...    2.275049\n",
       "1402   CS(=O)(=O)\\N=C\\1/C(=N/S(=O)(=O)C)C=Cc(c2)c1cc(...    2.774487"
      ]
     },
     "execution_count": 10,
     "metadata": {},
     "output_type": "execute_result"
    }
   ],
   "source": [
    "final_sample_CSA.head()"
   ]
  },
  {
   "cell_type": "code",
   "execution_count": 11,
   "metadata": {},
   "outputs": [],
   "source": [
    "# Load the CSV file\n",
    "dfPubl = pd.read_csv('OrganicElectrodesPublications.csv')"
   ]
  },
  {
   "cell_type": "code",
   "execution_count": 12,
   "metadata": {},
   "outputs": [
    {
     "data": {
      "text/html": [
       "<div>\n",
       "<style scoped>\n",
       "    .dataframe tbody tr th:only-of-type {\n",
       "        vertical-align: middle;\n",
       "    }\n",
       "\n",
       "    .dataframe tbody tr th {\n",
       "        vertical-align: top;\n",
       "    }\n",
       "\n",
       "    .dataframe thead th {\n",
       "        text-align: right;\n",
       "    }\n",
       "</style>\n",
       "<table border=\"1\" class=\"dataframe\">\n",
       "  <thead>\n",
       "    <tr style=\"text-align: right;\">\n",
       "      <th></th>\n",
       "      <th>Voltage</th>\n",
       "      <th>SMILES</th>\n",
       "    </tr>\n",
       "  </thead>\n",
       "  <tbody>\n",
       "    <tr>\n",
       "      <th>0</th>\n",
       "      <td>2.95</td>\n",
       "      <td>O=C1C2=C(O)C=CC(O)=C2C(=O)C2=C1C(=O)C1=C(C2=O)...</td>\n",
       "    </tr>\n",
       "    <tr>\n",
       "      <th>1</th>\n",
       "      <td>2.40</td>\n",
       "      <td>O=C(C1=C(C(S(=O)(O[Na])=O)=CC=C1)C2=O)C3=C2C=C...</td>\n",
       "    </tr>\n",
       "    <tr>\n",
       "      <th>2</th>\n",
       "      <td>2.40</td>\n",
       "      <td>OC(C1=C2C=CC=C1S(=O)(O)=O)=C3C(C(S(=O)(O)=O)=C...</td>\n",
       "    </tr>\n",
       "    <tr>\n",
       "      <th>3</th>\n",
       "      <td>2.25</td>\n",
       "      <td>O=C1C2=C(C=CC=C2)C(=O)C2=C1C=CC=C2S(=O)(=O)O[Na]</td>\n",
       "    </tr>\n",
       "    <tr>\n",
       "      <th>4</th>\n",
       "      <td>2.25</td>\n",
       "      <td>OC(C1=C2C=CC=C1S(=O)(O)=O)=C3C(C=CC=C3)=C2O</td>\n",
       "    </tr>\n",
       "  </tbody>\n",
       "</table>\n",
       "</div>"
      ],
      "text/plain": [
       "   Voltage                                             SMILES\n",
       "0     2.95  O=C1C2=C(O)C=CC(O)=C2C(=O)C2=C1C(=O)C1=C(C2=O)...\n",
       "1     2.40  O=C(C1=C(C(S(=O)(O[Na])=O)=CC=C1)C2=O)C3=C2C=C...\n",
       "2     2.40  OC(C1=C2C=CC=C1S(=O)(O)=O)=C3C(C(S(=O)(O)=O)=C...\n",
       "3     2.25   O=C1C2=C(C=CC=C2)C(=O)C2=C1C=CC=C2S(=O)(=O)O[Na]\n",
       "4     2.25        OC(C1=C2C=CC=C1S(=O)(O)=O)=C3C(C=CC=C3)=C2O"
      ]
     },
     "execution_count": 12,
     "metadata": {},
     "output_type": "execute_result"
    }
   ],
   "source": [
    "dfPubl.head()"
   ]
  },
  {
   "cell_type": "code",
   "execution_count": 13,
   "metadata": {},
   "outputs": [],
   "source": [
    "# Load the CSV file\n",
    "dfAnima = pd.read_csv('anima.csv')"
   ]
  },
  {
   "cell_type": "code",
   "execution_count": 14,
   "metadata": {},
   "outputs": [
    {
     "data": {
      "text/html": [
       "<div>\n",
       "<style scoped>\n",
       "    .dataframe tbody tr th:only-of-type {\n",
       "        vertical-align: middle;\n",
       "    }\n",
       "\n",
       "    .dataframe tbody tr th {\n",
       "        vertical-align: top;\n",
       "    }\n",
       "\n",
       "    .dataframe thead th {\n",
       "        text-align: right;\n",
       "    }\n",
       "</style>\n",
       "<table border=\"1\" class=\"dataframe\">\n",
       "  <thead>\n",
       "    <tr style=\"text-align: right;\">\n",
       "      <th></th>\n",
       "      <th>VoltageAnima</th>\n",
       "      <th>SMILESanima</th>\n",
       "    </tr>\n",
       "  </thead>\n",
       "  <tbody>\n",
       "    <tr>\n",
       "      <th>0</th>\n",
       "      <td>2.9716</td>\n",
       "      <td>CC1=C2C(=O)C(=NC(=O)C2=CC(=N)C1=O)C#C</td>\n",
       "    </tr>\n",
       "    <tr>\n",
       "      <th>1</th>\n",
       "      <td>2.9915</td>\n",
       "      <td>BrC1=NOC2=C(C(=O)C3=NON=C3C2=O)C1=O</td>\n",
       "    </tr>\n",
       "    <tr>\n",
       "      <th>2</th>\n",
       "      <td>3.0476</td>\n",
       "      <td>BrC1=NC2=C3C(O1)=NC=CN=C3C(Br)=NC2=O</td>\n",
       "    </tr>\n",
       "    <tr>\n",
       "      <th>3</th>\n",
       "      <td>3.2469</td>\n",
       "      <td>CC1=C(O)C2=C(SN=N1)C(=O)N=C(C#N)C2=O</td>\n",
       "    </tr>\n",
       "    <tr>\n",
       "      <th>4</th>\n",
       "      <td>3.3530</td>\n",
       "      <td>BrC1=CN=C2C(=NC3=NC(=O)C1=C23)C(=O)C#N</td>\n",
       "    </tr>\n",
       "  </tbody>\n",
       "</table>\n",
       "</div>"
      ],
      "text/plain": [
       "   VoltageAnima                             SMILESanima\n",
       "0        2.9716   CC1=C2C(=O)C(=NC(=O)C2=CC(=N)C1=O)C#C\n",
       "1        2.9915     BrC1=NOC2=C(C(=O)C3=NON=C3C2=O)C1=O\n",
       "2        3.0476    BrC1=NC2=C3C(O1)=NC=CN=C3C(Br)=NC2=O\n",
       "3        3.2469    CC1=C(O)C2=C(SN=N1)C(=O)N=C(C#N)C2=O\n",
       "4        3.3530  BrC1=CN=C2C(=NC3=NC(=O)C1=C23)C(=O)C#N"
      ]
     },
     "execution_count": 14,
     "metadata": {},
     "output_type": "execute_result"
    }
   ],
   "source": [
    "dfAnima.head()"
   ]
  },
  {
   "cell_type": "code",
   "execution_count": 15,
   "metadata": {},
   "outputs": [],
   "source": [
    "# Rename the SMILES and Voltage columns to have a common name across all dataframes\n",
    "dfPubl = dfPubl.rename(columns={'SMILES': 'SMILES', 'Voltage': 'Voltage'})\n",
    "dfAnima = dfAnima.rename(columns={'SMILESanima': 'SMILES', 'VoltageAnima': 'Voltage'})\n",
    "final_sample_CSA = final_sample_CSA.rename(columns={'SMILEScsa': 'SMILES', 'VoltageCSA': 'Voltage'})\n",
    "final_sample_Quinone = final_sample_Quinone.rename(columns={'SMILESquinone': 'SMILES', 'VoltageQuinone': 'Voltage'})\n",
    "\n",
    "# Concatenate the dataframes\n",
    "merged_df = pd.concat([dfPubl, dfAnima, final_sample_CSA, final_sample_Quinone], ignore_index=True)\n",
    "\n",
    "# Save the merged dataframe to a CSV file\n",
    "merged_df.to_csv('OrganicElectrodesAll.csv', index=False)"
   ]
  },
  {
   "cell_type": "code",
   "execution_count": 16,
   "metadata": {},
   "outputs": [
    {
     "data": {
      "text/plain": [
       "(2457, 2)"
      ]
     },
     "execution_count": 16,
     "metadata": {},
     "output_type": "execute_result"
    }
   ],
   "source": [
    "merged_df.shape"
   ]
  },
  {
   "cell_type": "code",
   "execution_count": 17,
   "metadata": {},
   "outputs": [
    {
     "data": {
      "text/html": [
       "<div>\n",
       "<style scoped>\n",
       "    .dataframe tbody tr th:only-of-type {\n",
       "        vertical-align: middle;\n",
       "    }\n",
       "\n",
       "    .dataframe tbody tr th {\n",
       "        vertical-align: top;\n",
       "    }\n",
       "\n",
       "    .dataframe thead th {\n",
       "        text-align: right;\n",
       "    }\n",
       "</style>\n",
       "<table border=\"1\" class=\"dataframe\">\n",
       "  <thead>\n",
       "    <tr style=\"text-align: right;\">\n",
       "      <th></th>\n",
       "      <th>Voltage</th>\n",
       "      <th>SMILES</th>\n",
       "    </tr>\n",
       "  </thead>\n",
       "  <tbody>\n",
       "    <tr>\n",
       "      <th>0</th>\n",
       "      <td>2.95</td>\n",
       "      <td>O=C1C2=C(O)C=CC(O)=C2C(=O)C2=C1C(=O)C1=C(C2=O)...</td>\n",
       "    </tr>\n",
       "    <tr>\n",
       "      <th>1</th>\n",
       "      <td>2.40</td>\n",
       "      <td>O=C(C1=C(C(S(=O)(O[Na])=O)=CC=C1)C2=O)C3=C2C=C...</td>\n",
       "    </tr>\n",
       "    <tr>\n",
       "      <th>2</th>\n",
       "      <td>2.40</td>\n",
       "      <td>OC(C1=C2C=CC=C1S(=O)(O)=O)=C3C(C(S(=O)(O)=O)=C...</td>\n",
       "    </tr>\n",
       "    <tr>\n",
       "      <th>3</th>\n",
       "      <td>2.25</td>\n",
       "      <td>O=C1C2=C(C=CC=C2)C(=O)C2=C1C=CC=C2S(=O)(=O)O[Na]</td>\n",
       "    </tr>\n",
       "    <tr>\n",
       "      <th>4</th>\n",
       "      <td>2.25</td>\n",
       "      <td>OC(C1=C2C=CC=C1S(=O)(O)=O)=C3C(C=CC=C3)=C2O</td>\n",
       "    </tr>\n",
       "  </tbody>\n",
       "</table>\n",
       "</div>"
      ],
      "text/plain": [
       "   Voltage                                             SMILES\n",
       "0     2.95  O=C1C2=C(O)C=CC(O)=C2C(=O)C2=C1C(=O)C1=C(C2=O)...\n",
       "1     2.40  O=C(C1=C(C(S(=O)(O[Na])=O)=CC=C1)C2=O)C3=C2C=C...\n",
       "2     2.40  OC(C1=C2C=CC=C1S(=O)(O)=O)=C3C(C(S(=O)(O)=O)=C...\n",
       "3     2.25   O=C1C2=C(C=CC=C2)C(=O)C2=C1C=CC=C2S(=O)(=O)O[Na]\n",
       "4     2.25        OC(C1=C2C=CC=C1S(=O)(O)=O)=C3C(C=CC=C3)=C2O"
      ]
     },
     "execution_count": 17,
     "metadata": {},
     "output_type": "execute_result"
    }
   ],
   "source": [
    "merged_df.head()"
   ]
  },
  {
   "cell_type": "code",
   "execution_count": null,
   "metadata": {},
   "outputs": [],
   "source": []
  }
 ],
 "metadata": {
  "kernelspec": {
   "display_name": "Python 3",
   "language": "python",
   "name": "python3"
  },
  "language_info": {
   "codemirror_mode": {
    "name": "ipython",
    "version": 3
   },
   "file_extension": ".py",
   "mimetype": "text/x-python",
   "name": "python",
   "nbconvert_exporter": "python",
   "pygments_lexer": "ipython3",
   "version": "3.12.2"
  }
 },
 "nbformat": 4,
 "nbformat_minor": 2
}
