{
 "cells": [
  {
   "cell_type": "code",
   "execution_count": 1,
   "metadata": {},
   "outputs": [],
   "source": [
    "import pandas as pd\n",
    "import numpy as np"
   ]
  },
  {
   "cell_type": "code",
   "execution_count": 2,
   "metadata": {},
   "outputs": [],
   "source": [
    "df_raw_All = pd.read_csv('OrganicElectrodesAll.csv')"
   ]
  },
  {
   "cell_type": "code",
   "execution_count": 3,
   "metadata": {},
   "outputs": [],
   "source": [
    "df_All = df_raw_All.drop_duplicates(subset='SMILES', keep='first')"
   ]
  },
  {
   "cell_type": "code",
   "execution_count": 4,
   "metadata": {},
   "outputs": [
    {
     "data": {
      "text/plain": [
       "(2415, 2)"
      ]
     },
     "execution_count": 4,
     "metadata": {},
     "output_type": "execute_result"
    }
   ],
   "source": [
    "df_All.shape"
   ]
  },
  {
   "cell_type": "markdown",
   "metadata": {},
   "source": [
    "- To sanitize SMILES strings in an RDKit-compatible format, use RDKit to process each SMILES string and filter out those that fail the sanitization process."
   ]
  },
  {
   "cell_type": "code",
   "execution_count": 5,
   "metadata": {},
   "outputs": [],
   "source": [
    "from rdkit import Chem\n",
    "from rdkit.Chem import MolToSmiles\n",
    "\n",
    "# Function to sanitize SMILES strings\n",
    "def sanitize_smiles(smiles):\n",
    "    try:\n",
    "        mol = Chem.MolFromSmiles(smiles, sanitize=True)\n",
    "        if mol is not None:\n",
    "            # Return canonical SMILES if sanitization is successful\n",
    "            return MolToSmiles(mol, canonical=True)\n",
    "        else:\n",
    "            return None\n",
    "    except:\n",
    "        return None\n"
   ]
  },
  {
   "cell_type": "code",
   "execution_count": 6,
   "metadata": {},
   "outputs": [
    {
     "name": "stderr",
     "output_type": "stream",
     "text": [
      "C:\\Users\\xueli\\AppData\\Local\\Temp\\ipykernel_18872\\1608062887.py:2: SettingWithCopyWarning: \n",
      "A value is trying to be set on a copy of a slice from a DataFrame.\n",
      "Try using .loc[row_indexer,col_indexer] = value instead\n",
      "\n",
      "See the caveats in the documentation: https://pandas.pydata.org/pandas-docs/stable/user_guide/indexing.html#returning-a-view-versus-a-copy\n",
      "  df_All['smiles'] = df_All['SMILES'].apply(sanitize_smiles)\n"
     ]
    }
   ],
   "source": [
    "# Apply sanitization to the DataFrame\n",
    "df_All['smiles'] = df_All['SMILES'].apply(sanitize_smiles)\n",
    "\n",
    "# Filter out rows with invalid SMILES\n",
    "df_All = df_All.dropna(subset=['smiles'])"
   ]
  },
  {
   "cell_type": "code",
   "execution_count": 7,
   "metadata": {},
   "outputs": [
    {
     "data": {
      "text/plain": [
       "(2415, 3)"
      ]
     },
     "execution_count": 7,
     "metadata": {},
     "output_type": "execute_result"
    }
   ],
   "source": [
    "df_All.shape"
   ]
  },
  {
   "cell_type": "code",
   "execution_count": 8,
   "metadata": {},
   "outputs": [
    {
     "data": {
      "text/html": [
       "<div>\n",
       "<style scoped>\n",
       "    .dataframe tbody tr th:only-of-type {\n",
       "        vertical-align: middle;\n",
       "    }\n",
       "\n",
       "    .dataframe tbody tr th {\n",
       "        vertical-align: top;\n",
       "    }\n",
       "\n",
       "    .dataframe thead th {\n",
       "        text-align: right;\n",
       "    }\n",
       "</style>\n",
       "<table border=\"1\" class=\"dataframe\">\n",
       "  <thead>\n",
       "    <tr style=\"text-align: right;\">\n",
       "      <th></th>\n",
       "      <th>Voltage</th>\n",
       "      <th>SMILES</th>\n",
       "      <th>smiles</th>\n",
       "    </tr>\n",
       "  </thead>\n",
       "  <tbody>\n",
       "    <tr>\n",
       "      <th>0</th>\n",
       "      <td>2.95</td>\n",
       "      <td>O=C1C2=C(O)C=CC(O)=C2C(=O)C2=C1C(=O)C1=C(C2=O)...</td>\n",
       "      <td>O=c1c2c(O)ccc(O)c2c(=O)c2c(=O)c3c(=O)c4c(=O)c5...</td>\n",
       "    </tr>\n",
       "    <tr>\n",
       "      <th>1</th>\n",
       "      <td>2.40</td>\n",
       "      <td>O=C(C1=C(C(S(=O)(O[Na])=O)=CC=C1)C2=O)C3=C2C=C...</td>\n",
       "      <td>O=C1c2cccc(S(=O)(=O)O[Na])c2C(=O)c2cccc(S(=O)(...</td>\n",
       "    </tr>\n",
       "    <tr>\n",
       "      <th>2</th>\n",
       "      <td>2.40</td>\n",
       "      <td>OC(C1=C2C=CC=C1S(=O)(O)=O)=C3C(C(S(=O)(O)=O)=C...</td>\n",
       "      <td>O=S(=O)(O)c1cccc2c(O)c3c(S(=O)(=O)O)cccc3c(O)c12</td>\n",
       "    </tr>\n",
       "    <tr>\n",
       "      <th>3</th>\n",
       "      <td>2.25</td>\n",
       "      <td>O=C1C2=C(C=CC=C2)C(=O)C2=C1C=CC=C2S(=O)(=O)O[Na]</td>\n",
       "      <td>O=C1c2ccccc2C(=O)c2c1cccc2S(=O)(=O)O[Na]</td>\n",
       "    </tr>\n",
       "    <tr>\n",
       "      <th>4</th>\n",
       "      <td>2.25</td>\n",
       "      <td>OC(C1=C2C=CC=C1S(=O)(O)=O)=C3C(C=CC=C3)=C2O</td>\n",
       "      <td>O=S(=O)(O)c1cccc2c(O)c3ccccc3c(O)c12</td>\n",
       "    </tr>\n",
       "  </tbody>\n",
       "</table>\n",
       "</div>"
      ],
      "text/plain": [
       "   Voltage                                             SMILES  \\\n",
       "0     2.95  O=C1C2=C(O)C=CC(O)=C2C(=O)C2=C1C(=O)C1=C(C2=O)...   \n",
       "1     2.40  O=C(C1=C(C(S(=O)(O[Na])=O)=CC=C1)C2=O)C3=C2C=C...   \n",
       "2     2.40  OC(C1=C2C=CC=C1S(=O)(O)=O)=C3C(C(S(=O)(O)=O)=C...   \n",
       "3     2.25   O=C1C2=C(C=CC=C2)C(=O)C2=C1C=CC=C2S(=O)(=O)O[Na]   \n",
       "4     2.25        OC(C1=C2C=CC=C1S(=O)(O)=O)=C3C(C=CC=C3)=C2O   \n",
       "\n",
       "                                              smiles  \n",
       "0  O=c1c2c(O)ccc(O)c2c(=O)c2c(=O)c3c(=O)c4c(=O)c5...  \n",
       "1  O=C1c2cccc(S(=O)(=O)O[Na])c2C(=O)c2cccc(S(=O)(...  \n",
       "2   O=S(=O)(O)c1cccc2c(O)c3c(S(=O)(=O)O)cccc3c(O)c12  \n",
       "3           O=C1c2ccccc2C(=O)c2c1cccc2S(=O)(=O)O[Na]  \n",
       "4               O=S(=O)(O)c1cccc2c(O)c3ccccc3c(O)c12  "
      ]
     },
     "execution_count": 8,
     "metadata": {},
     "output_type": "execute_result"
    }
   ],
   "source": [
    "df_All.head()"
   ]
  },
  {
   "cell_type": "markdown",
   "metadata": {},
   "source": [
    "### Data Augmentation Only on Training Dataset"
   ]
  },
  {
   "cell_type": "code",
   "execution_count": 9,
   "metadata": {},
   "outputs": [],
   "source": [
    "from sklearn.model_selection import StratifiedShuffleSplit\n",
    "\n",
    "# Step 1: Split data using StratifiedShuffleSplit\n",
    "# Example binning of voltage values\n",
    "bins = [0, 1.9, 2.7, 3.5, 5]  # Adjust based on your data range\n",
    "labels = ['very low', 'low', 'medium', 'high']\n",
    "df_All['Voltage_Binned'] = pd.cut(df_All['Voltage'], bins=bins, labels=labels)\n",
    "\n",
    "# Perform stratified split using the binned voltage column\n",
    "splitter = StratifiedShuffleSplit(n_splits=1, test_size=0.3, random_state=42)\n",
    "for train_index, test_index in splitter.split(df_All, df_All['Voltage_Binned']):\n",
    "    train_df = df_All.iloc[train_index]\n",
    "    test_df = df_All.iloc[test_index]\n"
   ]
  },
  {
   "cell_type": "code",
   "execution_count": 10,
   "metadata": {},
   "outputs": [],
   "source": [
    "train_df.to_csv('train_df_Agmt_Rdkit.csv', index=False)\n",
    "test_df.to_csv('test_df_Agmt_Rdkit.csv', index=False)"
   ]
  },
  {
   "cell_type": "code",
   "execution_count": 11,
   "metadata": {},
   "outputs": [
    {
     "name": "stderr",
     "output_type": "stream",
     "text": [
      "[11:36:11] UFFTYPER: Warning: hybridization set to SP3 for atom 4\n",
      "[11:36:11] UFFTYPER: Warning: hybridization set to SP3 for atom 4\n",
      "[11:36:11] UFFTYPER: Warning: hybridization set to SP3 for atom 4\n",
      "[11:36:11] UFFTYPER: Warning: hybridization set to SP3 for atom 4\n",
      "[11:36:11] UFFTYPER: Warning: hybridization set to SP3 for atom 4\n",
      "[11:36:11] UFFTYPER: Warning: hybridization set to SP3 for atom 4\n",
      "[11:36:30] UFFTYPER: Warning: hybridization set to SP3 for atom 4\n",
      "[11:36:30] UFFTYPER: Warning: hybridization set to SP3 for atom 4\n",
      "[11:36:30] UFFTYPER: Warning: hybridization set to SP3 for atom 4\n",
      "[11:36:30] UFFTYPER: Warning: hybridization set to SP3 for atom 4\n",
      "[11:36:30] UFFTYPER: Warning: hybridization set to SP3 for atom 4\n",
      "[11:36:30] UFFTYPER: Warning: hybridization set to SP3 for atom 4\n"
     ]
    }
   ],
   "source": [
    "from rdkit import Chem\n",
    "from rdkit.Chem import AllChem\n",
    "import pandas as pd\n",
    "\n",
    "# Function to generate different SMILES representations\n",
    "def generate_smiles_variants(smiles, num_variants=5):\n",
    "    mol = Chem.MolFromSmiles(smiles)\n",
    "    if mol is None:\n",
    "        return []  # Return an empty list if the SMILES string is invalid\n",
    "\n",
    "    # Add explicit hydrogens\n",
    "    mol = Chem.AddHs(mol)\n",
    "\n",
    "    # Generate conformers\n",
    "    AllChem.EmbedMolecule(mol, randomSeed=42)  # Ensure reproducibility\n",
    "\n",
    "    # Generate different canonical SMILES by modifying the molecule\n",
    "    smiles_variants = set()\n",
    "    for _ in range(num_variants):\n",
    "        # Generate a new conformer\n",
    "        mol = Chem.MolFromSmiles(smiles)\n",
    "        mol = Chem.AddHs(mol)  # Add hydrogens to the new molecule\n",
    "        AllChem.EmbedMolecule(mol, randomSeed=42)  # Generate new conformer\n",
    "        \n",
    "        # Generate non-canonical SMILES\n",
    "        new_smiles = Chem.MolToSmiles(mol, canonical=False)\n",
    "        smiles_variants.add(new_smiles)\n",
    "    \n",
    "    return list(smiles_variants)\n",
    "\n",
    "# Initialize a list to store rows for the augmented dataframe\n",
    "rows = []\n",
    "\n",
    "# Iterate over each row and generate variants\n",
    "for index, row in train_df.iterrows():\n",
    "    smiles = row['SMILES']\n",
    "    voltage = row['Voltage']\n",
    "    variants = generate_smiles_variants(smiles)\n",
    "    for variant in variants:\n",
    "        rows.append({'SMILES': variant, 'Voltage': voltage})\n",
    "\n",
    "# Convert list of rows to DataFrame\n",
    "augmented_df = pd.DataFrame(rows)\n",
    "\n",
    "# Save augmented dataframe\n",
    "augmented_df.to_csv('augmented_df_All_Rdkit.csv', index=False)\n"
   ]
  },
  {
   "cell_type": "code",
   "execution_count": 40,
   "metadata": {},
   "outputs": [],
   "source": [
    "# Import saved files\n",
    "train_df = pd.read_csv('train_df_Agmt_Rdkit.csv')\n",
    "test_df = pd.read_csv('test_df_Agmt_Rdkit.csv')\n",
    "augmented_df = pd.read_csv('augmented_df_All_Rdkit.csv')"
   ]
  },
  {
   "cell_type": "code",
   "execution_count": 12,
   "metadata": {},
   "outputs": [
    {
     "data": {
      "text/plain": [
       "(1690, 2)"
      ]
     },
     "execution_count": 12,
     "metadata": {},
     "output_type": "execute_result"
    }
   ],
   "source": [
    "augmented_df.shape"
   ]
  },
  {
   "cell_type": "code",
   "execution_count": 13,
   "metadata": {},
   "outputs": [
    {
     "data": {
      "text/html": [
       "<div>\n",
       "<style scoped>\n",
       "    .dataframe tbody tr th:only-of-type {\n",
       "        vertical-align: middle;\n",
       "    }\n",
       "\n",
       "    .dataframe tbody tr th {\n",
       "        vertical-align: top;\n",
       "    }\n",
       "\n",
       "    .dataframe thead th {\n",
       "        text-align: right;\n",
       "    }\n",
       "</style>\n",
       "<table border=\"1\" class=\"dataframe\">\n",
       "  <thead>\n",
       "    <tr style=\"text-align: right;\">\n",
       "      <th></th>\n",
       "      <th>SMILES</th>\n",
       "      <th>Voltage</th>\n",
       "    </tr>\n",
       "  </thead>\n",
       "  <tbody>\n",
       "    <tr>\n",
       "      <th>0</th>\n",
       "      <td>Clc1c([H])c([H])c(Cl)c2c1C(=O)C([H])=C([H])C2=O</td>\n",
       "      <td>2.663037</td>\n",
       "    </tr>\n",
       "    <tr>\n",
       "      <th>1</th>\n",
       "      <td>O=c1c(Cl)c([H])c(=O)c2c(=O)c(Cl)c(Cl)c(=O)c1=2</td>\n",
       "      <td>3.655935</td>\n",
       "    </tr>\n",
       "    <tr>\n",
       "      <th>2</th>\n",
       "      <td>[Li]OC(C1=C(C(O[Li])(O[Li])[H])SC(=C2SC(C(O[Li...</td>\n",
       "      <td>1.200000</td>\n",
       "    </tr>\n",
       "    <tr>\n",
       "      <th>3</th>\n",
       "      <td>Fc1c([H])c(S[Li])c(F)c([H])c1S[Li]</td>\n",
       "      <td>2.400000</td>\n",
       "    </tr>\n",
       "    <tr>\n",
       "      <th>4</th>\n",
       "      <td>C(Oc1c(OC([H])([H])[H])c([H])c([H])c2c([H])c(O...</td>\n",
       "      <td>2.670670</td>\n",
       "    </tr>\n",
       "  </tbody>\n",
       "</table>\n",
       "</div>"
      ],
      "text/plain": [
       "                                              SMILES   Voltage\n",
       "0    Clc1c([H])c([H])c(Cl)c2c1C(=O)C([H])=C([H])C2=O  2.663037\n",
       "1     O=c1c(Cl)c([H])c(=O)c2c(=O)c(Cl)c(Cl)c(=O)c1=2  3.655935\n",
       "2  [Li]OC(C1=C(C(O[Li])(O[Li])[H])SC(=C2SC(C(O[Li...  1.200000\n",
       "3                 Fc1c([H])c(S[Li])c(F)c([H])c1S[Li]  2.400000\n",
       "4  C(Oc1c(OC([H])([H])[H])c([H])c([H])c2c([H])c(O...  2.670670"
      ]
     },
     "execution_count": 13,
     "metadata": {},
     "output_type": "execute_result"
    }
   ],
   "source": [
    "augmented_df.head()"
   ]
  },
  {
   "cell_type": "code",
   "execution_count": 14,
   "metadata": {},
   "outputs": [
    {
     "data": {
      "text/html": [
       "<div>\n",
       "<style scoped>\n",
       "    .dataframe tbody tr th:only-of-type {\n",
       "        vertical-align: middle;\n",
       "    }\n",
       "\n",
       "    .dataframe tbody tr th {\n",
       "        vertical-align: top;\n",
       "    }\n",
       "\n",
       "    .dataframe thead th {\n",
       "        text-align: right;\n",
       "    }\n",
       "</style>\n",
       "<table border=\"1\" class=\"dataframe\">\n",
       "  <thead>\n",
       "    <tr style=\"text-align: right;\">\n",
       "      <th></th>\n",
       "      <th>Voltage</th>\n",
       "      <th>SMILES</th>\n",
       "      <th>smiles</th>\n",
       "      <th>Voltage_Binned</th>\n",
       "    </tr>\n",
       "  </thead>\n",
       "  <tbody>\n",
       "    <tr>\n",
       "      <th>2162</th>\n",
       "      <td>2.663037</td>\n",
       "      <td>Clc1ccc(Cl)c(c12)C(=O)C=CC2=O</td>\n",
       "      <td>O=C1C=CC(=O)c2c(Cl)ccc(Cl)c21</td>\n",
       "      <td>low</td>\n",
       "    </tr>\n",
       "    <tr>\n",
       "      <th>2016</th>\n",
       "      <td>3.655935</td>\n",
       "      <td>O=c1c(Cl)cc(=O)c(c12)c(=O)c(Cl)c(Cl)c2=O</td>\n",
       "      <td>O=c1cc(Cl)c(=O)c2c(=O)c(Cl)c(Cl)c(=O)c1=2</td>\n",
       "      <td>high</td>\n",
       "    </tr>\n",
       "    <tr>\n",
       "      <th>889</th>\n",
       "      <td>1.200000</td>\n",
       "      <td>[Li]OC(C1=C(S/C(S1)=C2SC(C(O[Li])O[Li])=C(S/2)...</td>\n",
       "      <td>[Li]OC(O[Li])C1=C(C(O[Li])O[Li])SC(=C2SC(C(O[L...</td>\n",
       "      <td>very low</td>\n",
       "    </tr>\n",
       "    <tr>\n",
       "      <th>908</th>\n",
       "      <td>2.400000</td>\n",
       "      <td>FC(C=C1S[Li])=C(C=C1F)S[Li]</td>\n",
       "      <td>[Li]Sc1cc(F)c(S[Li])cc1F</td>\n",
       "      <td>low</td>\n",
       "    </tr>\n",
       "    <tr>\n",
       "      <th>1675</th>\n",
       "      <td>2.670670</td>\n",
       "      <td>COc1c(OC)ccc2cc(OC)c(c3c12)/C(=N/S(=O)(=O)C)/C...</td>\n",
       "      <td>COC1=C(OC)c2c(c(OC)cc3ccc(OC)c(OC)c23)C(=N/S(C...</td>\n",
       "      <td>low</td>\n",
       "    </tr>\n",
       "  </tbody>\n",
       "</table>\n",
       "</div>"
      ],
      "text/plain": [
       "       Voltage                                             SMILES  \\\n",
       "2162  2.663037                      Clc1ccc(Cl)c(c12)C(=O)C=CC2=O   \n",
       "2016  3.655935           O=c1c(Cl)cc(=O)c(c12)c(=O)c(Cl)c(Cl)c2=O   \n",
       "889   1.200000  [Li]OC(C1=C(S/C(S1)=C2SC(C(O[Li])O[Li])=C(S/2)...   \n",
       "908   2.400000                        FC(C=C1S[Li])=C(C=C1F)S[Li]   \n",
       "1675  2.670670  COc1c(OC)ccc2cc(OC)c(c3c12)/C(=N/S(=O)(=O)C)/C...   \n",
       "\n",
       "                                                 smiles Voltage_Binned  \n",
       "2162                      O=C1C=CC(=O)c2c(Cl)ccc(Cl)c21            low  \n",
       "2016          O=c1cc(Cl)c(=O)c2c(=O)c(Cl)c(Cl)c(=O)c1=2           high  \n",
       "889   [Li]OC(O[Li])C1=C(C(O[Li])O[Li])SC(=C2SC(C(O[L...       very low  \n",
       "908                            [Li]Sc1cc(F)c(S[Li])cc1F            low  \n",
       "1675  COC1=C(OC)c2c(c(OC)cc3ccc(OC)c(OC)c23)C(=N/S(C...            low  "
      ]
     },
     "execution_count": 14,
     "metadata": {},
     "output_type": "execute_result"
    }
   ],
   "source": [
    "train_df.head()"
   ]
  },
  {
   "cell_type": "code",
   "execution_count": 15,
   "metadata": {},
   "outputs": [
    {
     "data": {
      "text/plain": [
       "(1690, 4)"
      ]
     },
     "execution_count": 15,
     "metadata": {},
     "output_type": "execute_result"
    }
   ],
   "source": [
    "train_df.shape"
   ]
  },
  {
   "cell_type": "code",
   "execution_count": 14,
   "metadata": {},
   "outputs": [
    {
     "data": {
      "text/plain": [
       "(725, 4)"
      ]
     },
     "execution_count": 14,
     "metadata": {},
     "output_type": "execute_result"
    }
   ],
   "source": [
    "test_df.shape"
   ]
  },
  {
   "cell_type": "code",
   "execution_count": 15,
   "metadata": {},
   "outputs": [],
   "source": [
    "# Delete 'Voltage_Binned' column from both train_df and test_df\n",
    "train_df = train_df.drop(columns=['Voltage_Binned'])\n",
    "test_df = test_df.drop(columns=['Voltage_Binned'])"
   ]
  },
  {
   "cell_type": "code",
   "execution_count": 16,
   "metadata": {},
   "outputs": [],
   "source": [
    "\n",
    "# Step 3: Merge augmented data with original train data and test data\n",
    "augmented_df['Augmented'] = 1\n",
    "train_df['Augmented'] = 1\n",
    "test_df['Augmented'] = 0\n",
    "df_All_augmented = pd.concat([augmented_df,train_df, test_df], ignore_index=True)\n"
   ]
  },
  {
   "cell_type": "code",
   "execution_count": 17,
   "metadata": {},
   "outputs": [
    {
     "data": {
      "text/html": [
       "<div>\n",
       "<style scoped>\n",
       "    .dataframe tbody tr th:only-of-type {\n",
       "        vertical-align: middle;\n",
       "    }\n",
       "\n",
       "    .dataframe tbody tr th {\n",
       "        vertical-align: top;\n",
       "    }\n",
       "\n",
       "    .dataframe thead th {\n",
       "        text-align: right;\n",
       "    }\n",
       "</style>\n",
       "<table border=\"1\" class=\"dataframe\">\n",
       "  <thead>\n",
       "    <tr style=\"text-align: right;\">\n",
       "      <th></th>\n",
       "      <th>SMILES</th>\n",
       "      <th>Voltage</th>\n",
       "      <th>Augmented</th>\n",
       "      <th>smiles</th>\n",
       "    </tr>\n",
       "  </thead>\n",
       "  <tbody>\n",
       "    <tr>\n",
       "      <th>0</th>\n",
       "      <td>Clc1c([H])c([H])c(Cl)c2c1C(=O)C([H])=C([H])C2=O</td>\n",
       "      <td>2.663037</td>\n",
       "      <td>1</td>\n",
       "      <td>NaN</td>\n",
       "    </tr>\n",
       "    <tr>\n",
       "      <th>1</th>\n",
       "      <td>O=c1c(Cl)c([H])c(=O)c2c(=O)c(Cl)c(Cl)c(=O)c1=2</td>\n",
       "      <td>3.655935</td>\n",
       "      <td>1</td>\n",
       "      <td>NaN</td>\n",
       "    </tr>\n",
       "    <tr>\n",
       "      <th>2</th>\n",
       "      <td>[Li]OC(C1=C(C(O[Li])(O[Li])[H])SC(=C2SC(C(O[Li...</td>\n",
       "      <td>1.200000</td>\n",
       "      <td>1</td>\n",
       "      <td>NaN</td>\n",
       "    </tr>\n",
       "    <tr>\n",
       "      <th>3</th>\n",
       "      <td>Fc1c([H])c(S[Li])c(F)c([H])c1S[Li]</td>\n",
       "      <td>2.400000</td>\n",
       "      <td>1</td>\n",
       "      <td>NaN</td>\n",
       "    </tr>\n",
       "    <tr>\n",
       "      <th>4</th>\n",
       "      <td>C(Oc1c(OC([H])([H])[H])c([H])c([H])c2c([H])c(O...</td>\n",
       "      <td>2.670670</td>\n",
       "      <td>1</td>\n",
       "      <td>NaN</td>\n",
       "    </tr>\n",
       "  </tbody>\n",
       "</table>\n",
       "</div>"
      ],
      "text/plain": [
       "                                              SMILES   Voltage  Augmented  \\\n",
       "0    Clc1c([H])c([H])c(Cl)c2c1C(=O)C([H])=C([H])C2=O  2.663037          1   \n",
       "1     O=c1c(Cl)c([H])c(=O)c2c(=O)c(Cl)c(Cl)c(=O)c1=2  3.655935          1   \n",
       "2  [Li]OC(C1=C(C(O[Li])(O[Li])[H])SC(=C2SC(C(O[Li...  1.200000          1   \n",
       "3                 Fc1c([H])c(S[Li])c(F)c([H])c1S[Li]  2.400000          1   \n",
       "4  C(Oc1c(OC([H])([H])[H])c([H])c([H])c2c([H])c(O...  2.670670          1   \n",
       "\n",
       "  smiles  \n",
       "0    NaN  \n",
       "1    NaN  \n",
       "2    NaN  \n",
       "3    NaN  \n",
       "4    NaN  "
      ]
     },
     "execution_count": 17,
     "metadata": {},
     "output_type": "execute_result"
    }
   ],
   "source": [
    "df_All_augmented.head()"
   ]
  },
  {
   "cell_type": "code",
   "execution_count": 18,
   "metadata": {},
   "outputs": [
    {
     "data": {
      "text/plain": [
       "(4105, 4)"
      ]
     },
     "execution_count": 18,
     "metadata": {},
     "output_type": "execute_result"
    }
   ],
   "source": [
    "df_All_augmented.shape"
   ]
  },
  {
   "cell_type": "code",
   "execution_count": 19,
   "metadata": {},
   "outputs": [],
   "source": [
    "df_All_augmented = df_All_augmented.drop_duplicates(subset='SMILES', keep='first')"
   ]
  },
  {
   "cell_type": "code",
   "execution_count": 20,
   "metadata": {},
   "outputs": [
    {
     "data": {
      "text/plain": [
       "(4090, 4)"
      ]
     },
     "execution_count": 20,
     "metadata": {},
     "output_type": "execute_result"
    }
   ],
   "source": [
    "df_All_augmented.shape"
   ]
  },
  {
   "cell_type": "code",
   "execution_count": 21,
   "metadata": {},
   "outputs": [],
   "source": [
    "df_All = df_All_augmented.copy()"
   ]
  },
  {
   "cell_type": "code",
   "execution_count": 22,
   "metadata": {},
   "outputs": [
    {
     "data": {
      "text/plain": [
       "(4090, 4)"
      ]
     },
     "execution_count": 22,
     "metadata": {},
     "output_type": "execute_result"
    }
   ],
   "source": [
    "df_All.shape"
   ]
  },
  {
   "cell_type": "markdown",
   "metadata": {},
   "source": [
    "# Exploratory Data Analysis (EDA)"
   ]
  },
  {
   "cell_type": "code",
   "execution_count": 23,
   "metadata": {},
   "outputs": [
    {
     "data": {
      "image/png": "[encoded data removed]",
      "text/plain": [
       "<Figure size 1000x600 with 1 Axes>"
      ]
     },
     "metadata": {},
     "output_type": "display_data"
    }
   ],
   "source": [
    "import matplotlib.pyplot as plt\n",
    "import seaborn as sns\n",
    "\n",
    "# Calculate the length of each SMILES string\n",
    "df_All['length'] = df_All['SMILES'].apply(len)\n",
    "\n",
    "# Set the plot style\n",
    "sns.set(style=\"whitegrid\")\n",
    "\n",
    "# Create the plot\n",
    "plt.figure(figsize=(10, 6))\n",
    "sns.histplot(df_All['length'], bins=30, kde=True)\n",
    "\n",
    "# Set the plot title and labels\n",
    "plt.title('Distribution of SMILES String Lengths in df_All')\n",
    "plt.xlabel('Length of SMILES String')\n",
    "plt.ylabel('Frequency')\n",
    "\n",
    "# Show the plot\n",
    "plt.show()"
   ]
  },
  {
   "cell_type": "code",
   "execution_count": 24,
   "metadata": {},
   "outputs": [
    {
     "name": "stdout",
     "output_type": "stream",
     "text": [
      "The maximum length of SMILES strings in the df_All DataFrame is: 523\n"
     ]
    }
   ],
   "source": [
    "max_length_All = df_All['SMILES'].apply(len).max()\n",
    "\n",
    "print(\"The maximum length of SMILES strings in the df_All DataFrame is:\", max_length_All)"
   ]
  },
  {
   "cell_type": "code",
   "execution_count": 25,
   "metadata": {},
   "outputs": [
    {
     "data": {
      "image/png": "[encoded data removed]",
      "text/plain": [
       "<Figure size 1000x600 with 1 Axes>"
      ]
     },
     "metadata": {},
     "output_type": "display_data"
    }
   ],
   "source": [
    "# Create the plot for Voltage distribution\n",
    "plt.figure(figsize=(10, 6))\n",
    "sns.histplot(df_All['Voltage'], bins=30, kde=True)\n",
    "plt.title('Distribution of Voltage Values in df_All')\n",
    "plt.xlabel('Voltage')\n",
    "plt.ylabel('Frequency')\n",
    "plt.show()"
   ]
  },
  {
   "cell_type": "code",
   "execution_count": 26,
   "metadata": {},
   "outputs": [
    {
     "name": "stdout",
     "output_type": "stream",
     "text": [
      "Number of voltage values in df_All greater than 2.5: 2268\n",
      "Percentage: 55.45%\n"
     ]
    }
   ],
   "source": [
    "# Filter the DataFrame for voltage values greater than 2.5\n",
    "high_voltage_df_All = df_All[df_All['Voltage'] > 2.5]\n",
    "\n",
    "# Count the number of rows with voltage values greater than 2.5\n",
    "num_high_voltage_All = high_voltage_df_All.shape[0]\n",
    "\n",
    "percent_All = round((num_high_voltage_All/df_All.shape[0]) * 100, 2)\n",
    "\n",
    "print(f\"Number of voltage values in df_All greater than 2.5: {num_high_voltage_All}\")\n",
    "print(f\"Percentage: {percent_All}%\")"
   ]
  }
 ],
 "metadata": {
  "kernelspec": {
   "display_name": "base",
   "language": "python",
   "name": "python3"
  },
  "language_info": {
   "codemirror_mode": {
    "name": "ipython",
    "version": 3
   },
   "file_extension": ".py",
   "mimetype": "text/x-python",
   "name": "python",
   "nbconvert_exporter": "python",
   "pygments_lexer": "ipython3",
   "version": "3.9.19"
  }
 },
 "nbformat": 4,
 "nbformat_minor": 2
}
